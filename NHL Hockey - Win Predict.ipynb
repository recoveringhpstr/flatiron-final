{
 "cells": [
  {
   "cell_type": "markdown",
   "metadata": {},
   "source": [
    "# NHL Hockey Analysis"
   ]
  },
  {
   "cell_type": "markdown",
   "metadata": {},
   "source": [
    "#### Model Goal: Determining game outcomes based on non-goal metrics"
   ]
  },
  {
   "cell_type": "markdown",
   "metadata": {},
   "source": [
    "![image.png](https://thesportsdailydigital.files.wordpress.com/2018/07/hb740lltkxmz1.png?w=2000&h=1200&crop=1)"
   ]
  },
  {
   "cell_type": "markdown",
   "metadata": {},
   "source": [
    "![image.jpg](https://nhl.bamcontent.com/images/photos/289358084/1536x864/cut.jpg)"
   ]
  },
  {
   "cell_type": "markdown",
   "metadata": {},
   "source": [
    "### Import Packages"
   ]
  },
  {
   "cell_type": "code",
   "execution_count": 1,
   "metadata": {},
   "outputs": [],
   "source": [
    "import pandas as pd\n",
    "import numpy as np\n",
    "import seaborn as sns\n",
    "import matplotlib.pyplot as plt\n",
    "import datetime\n",
    "from plotnine import *\n",
    "\n",
    "from sklearn.datasets import make_classification\n",
    "from sklearn.model_selection import GridSearchCV, train_test_split\n",
    "from sklearn.metrics import confusion_matrix\n",
    "from sklearn.linear_model import LogisticRegression\n",
    "from sklearn.ensemble import GradientBoostingClassifier\n",
    "\n",
    "sns.set_style('darkgrid')\n",
    "\n",
    "%matplotlib inline\n",
    "\n",
    "import warnings\n",
    "\n",
    "warnings.simplefilter(\"ignore\", UserWarning)"
   ]
  },
  {
   "cell_type": "code",
   "execution_count": 2,
   "metadata": {},
   "outputs": [
    {
     "name": "stdout",
     "output_type": "stream",
     "text": [
      "Solving environment: done\n",
      "\n",
      "# All requested packages already installed.\n",
      "\n"
     ]
    }
   ],
   "source": [
    "import graphviz\n",
    "from sklearn.tree import export_graphviz\n",
    "from sklearn.datasets import *\n",
    "from sklearn import tree\n",
    "from sklearn.tree import DecisionTreeClassifier\n",
    "! conda install -y -c anaconda graphviz"
   ]
  },
  {
   "cell_type": "markdown",
   "metadata": {},
   "source": [
    "### Import & Clean Data"
   ]
  },
  {
   "cell_type": "markdown",
   "metadata": {},
   "source": [
    "![image.png](table_relationships.JPG)"
   ]
  },
  {
   "cell_type": "code",
   "execution_count": 3,
   "metadata": {},
   "outputs": [],
   "source": [
    "# player_info = pd.read_csv('./nhl-game-data/player_info.csv')\n",
    "# game_goalie_stats = pd.read_csv('./nhl-game-data/game_goalie_stats.csv')\n",
    "# game_plays = pd.read_csv('./nhl-game-data/game_plays.csv')\n",
    "# game_plays_players = pd.read_csv('./nhl-game-data/game_plays_players.csv')\n",
    "# game_shifts = pd.read_csv('./nhl-game-data/game_shifts.csv')\n",
    "# game_skater_stats = pd.read_csv('./nhl-game-data/game_skater_stats.csv')"
   ]
  },
  {
   "cell_type": "code",
   "execution_count": 4,
   "metadata": {},
   "outputs": [],
   "source": [
    "game = pd.read_csv('./nhl-game-data/game.csv')\n",
    "game_team_stats = pd.read_csv('./nhl-game-data/game_teams_stats.csv')\n",
    "team_info = pd.read_csv('./nhl-game-data/team_info.csv')"
   ]
  },
  {
   "cell_type": "code",
   "execution_count": 5,
   "metadata": {},
   "outputs": [],
   "source": [
    "df_temp = pd.merge(team_info[['team_id','franchiseId', \n",
    "                                'shortName', 'teamName', 'abbreviation']],\n",
    "              game_team_stats, \n",
    "              on=['team_id']\n",
    "             )\n",
    "df = pd.merge(game[['game_id','season','type',\n",
    "                          'date_time','away_team_id','home_team_id',\n",
    "                          'away_goals','home_goals']],\n",
    "                df_temp,\n",
    "                   on=['game_id']\n",
    "                   )"
   ]
  },
  {
   "cell_type": "code",
   "execution_count": 6,
   "metadata": {},
   "outputs": [],
   "source": [
    "# Convert date_time to date/time format, create 'year' column\n",
    "df['date_time'] = pd.to_datetime(df['date_time'])\n",
    "df['year'] = df['date_time'].dt.year.astype(str)"
   ]
  },
  {
   "cell_type": "code",
   "execution_count": 7,
   "metadata": {},
   "outputs": [],
   "source": [
    "# Remove playoff games, as well as abbreviated 2012 - 2013 season\n",
    "df = df[~df.type.str.contains(\"P\")]\n",
    "df = df.loc[~(df['season'] == 20122013)]"
   ]
  },
  {
   "cell_type": "code",
   "execution_count": 8,
   "metadata": {},
   "outputs": [],
   "source": [
    "# Create two different data sets to create unique data value set for home & away team\n",
    "df.sort_values(by=['HoA'], inplace=True)\n",
    "df_home = df.drop_duplicates(subset=['game_id'], keep='last')\n",
    "df_away = df.drop_duplicates(subset=['game_id'], keep='first')"
   ]
  },
  {
   "cell_type": "code",
   "execution_count": 9,
   "metadata": {},
   "outputs": [
    {
     "name": "stdout",
     "output_type": "stream",
     "text": [
      "Number of games: 6191\n"
     ]
    }
   ],
   "source": [
    "# Inner join home & away data sets to merge data sets and prepare for exploratory analysis\n",
    "df = pd.merge(df_home, df_away, on='game_id', how='inner',suffixes=('_home','_away'))\n",
    "print('Number of games:',len(df))"
   ]
  },
  {
   "cell_type": "code",
   "execution_count": 10,
   "metadata": {},
   "outputs": [],
   "source": [
    "# df['pim_opp_home'] = (df['pim_away'] / df['powerPlayOpportunities_home'])\n",
    "# df['pim_opp_away'] = (df['pim_home'] / df['powerPlayOpportunities_away'])"
   ]
  },
  {
   "cell_type": "code",
   "execution_count": 11,
   "metadata": {},
   "outputs": [],
   "source": [
    "# In order to link home team & away team statistics, we have combined our fourteen variables \n",
    "## to create seven keystone variables: powerPlayOpps, PIMs, Shots, Hits, Face Off Win %, Giveaways, Takeaways.\n",
    "df['goal_diff'] = df['home_goals_home'] - df['away_goals_away']\n",
    "df['powerPlayOpportunities_diff'] = df['powerPlayOpportunities_home'] - df['powerPlayOpportunities_away']\n",
    "df['pim_diff'] = df['pim_home'] - df['pim_away']\n",
    "df['shots_diff'] = df['shots_home'] - df['shots_away']\n",
    "df['hits_diff'] = df['hits_home'] - df['hits_away']\n",
    "df['faceOffWinPercentage_diff'] = df['faceOffWinPercentage_home'] - df['faceOffWinPercentage_away']\n",
    "df['giveaways_diff'] = df['giveaways_home'] - df['giveaways_away']\n",
    "df['takeaways_diff'] = df['takeaways_home'] - df['takeaways_away']"
   ]
  },
  {
   "cell_type": "markdown",
   "metadata": {},
   "source": [
    "### Exploratory Data Analysis"
   ]
  },
  {
   "cell_type": "code",
   "execution_count": 12,
   "metadata": {},
   "outputs": [
    {
     "name": "stdout",
     "output_type": "stream",
     "text": [
      "% of home team wins\n",
      "True     54.6\n",
      "False    45.4\n",
      "Name: won_home, dtype: float64\n"
     ]
    },
    {
     "data": {
      "image/png": "[encoded data removed]",
      "text/plain": [
       "<Figure size 720x360 with 1 Axes>"
      ]
     },
     "metadata": {},
     "output_type": "display_data"
    }
   ],
   "source": [
    "df['won_home'].value_counts(normalize=True).mul(100).plot(kind='pie',\n",
    "    figsize=(10,5), sort_columns=False)\n",
    "print('% of home team wins')\n",
    "print(df['won_home'].value_counts(normalize=True).mul(100).round(1))"
   ]
  },
  {
   "cell_type": "code",
   "execution_count": 14,
   "metadata": {},
   "outputs": [
    {
     "data": {
      "image/png": "[encoded data removed]",
      "text/plain": [
       "<Figure size 640x480 with 1 Axes>"
      ]
     },
     "metadata": {
      "needs_background": "light"
     },
     "output_type": "display_data"
    },
    {
     "data": {
      "text/plain": [
       "<ggplot: (-9223372036556150240)>"
      ]
     },
     "execution_count": 14,
     "metadata": {},
     "output_type": "execute_result"
    }
   ],
   "source": [
    "goal_differential = df\n",
    "(\n",
    "    \n",
    "ggplot(goal_differential, \n",
    "       aes(x='goal_diff',fill='goal_diff')\n",
    "      )\n",
    " + geom_histogram(binwidth=1)\n",
    " + theme_minimal()\n",
    ")"
   ]
  },
  {
   "cell_type": "code",
   "execution_count": 15,
   "metadata": {},
   "outputs": [
    {
     "data": {
      "text/plain": [
       "{'whiskers': [<matplotlib.lines.Line2D at 0x11cd06240>,\n",
       "  <matplotlib.lines.Line2D at 0x11cd065c0>],\n",
       " 'caps': [<matplotlib.lines.Line2D at 0x11cd06940>,\n",
       "  <matplotlib.lines.Line2D at 0x11cd06cc0>],\n",
       " 'boxes': [<matplotlib.lines.Line2D at 0x11cd060b8>],\n",
       " 'medians': [<matplotlib.lines.Line2D at 0x11dc86080>],\n",
       " 'fliers': [<matplotlib.lines.Line2D at 0x11dc86400>],\n",
       " 'means': []}"
      ]
     },
     "execution_count": 15,
     "metadata": {},
     "output_type": "execute_result"
    },
    {
     "data": {
      "image/png": "[encoded data removed]",
      "text/plain": [
       "<Figure size 432x288 with 1 Axes>"
      ]
     },
     "metadata": {
      "needs_background": "light"
     },
     "output_type": "display_data"
    }
   ],
   "source": [
    "plt.title('Goal Differential Plot')\n",
    "plt.ylabel('Home (minus) Away Goals')\n",
    "plt.boxplot(list(df.goal_diff))"
   ]
  },
  {
   "cell_type": "code",
   "execution_count": 16,
   "metadata": {},
   "outputs": [
    {
     "data": {
      "text/plain": [
       "Text(0, 0.5, 'home vs. away')"
      ]
     },
     "execution_count": 16,
     "metadata": {},
     "output_type": "execute_result"
    },
    {
     "data": {
      "image/png": "[encoded data removed]",
      "text/plain": [
       "<Figure size 720x360 with 1 Axes>"
      ]
     },
     "metadata": {
      "needs_background": "light"
     },
     "output_type": "display_data"
    }
   ],
   "source": [
    "df[['goals_home','goals_away']].mean().sort_values().plot(kind='barh',figsize=(10,5))\n",
    "plt.title('Average Goals per Game: 2013 - 2018')\n",
    "plt.xlabel('Goals per Game')\n",
    "plt.ylabel('home vs. away')"
   ]
  },
  {
   "cell_type": "code",
   "execution_count": 17,
   "metadata": {},
   "outputs": [
    {
     "data": {
      "text/plain": [
       "Text(0, 0.5, 'home vs. away')"
      ]
     },
     "execution_count": 17,
     "metadata": {},
     "output_type": "execute_result"
    },
    {
     "data": {
      "image/png": "[encoded data removed]",
      "text/plain": [
       "<Figure size 720x360 with 1 Axes>"
      ]
     },
     "metadata": {
      "needs_background": "light"
     },
     "output_type": "display_data"
    }
   ],
   "source": [
    "df[['shots_home','shots_away']].mean().sort_values().plot(kind='barh',figsize=(10,5))\n",
    "plt.title('Average Shots per Game: 2013 - 2018')\n",
    "plt.xlabel('Shots per Game')\n",
    "plt.ylabel('home vs. away')"
   ]
  },
  {
   "cell_type": "code",
   "execution_count": 18,
   "metadata": {},
   "outputs": [
    {
     "data": {
      "text/plain": [
       "Text(0, 0.5, 'home vs. away')"
      ]
     },
     "execution_count": 18,
     "metadata": {},
     "output_type": "execute_result"
    },
    {
     "data": {
      "image/png": "[encoded data removed]",
      "text/plain": [
       "<Figure size 720x360 with 1 Axes>"
      ]
     },
     "metadata": {
      "needs_background": "light"
     },
     "output_type": "display_data"
    }
   ],
   "source": [
    "df[['pim_home','pim_away']].mean().plot(kind='barh',figsize=(10,5),color='darkblue')\n",
    "plt.xlabel('Avg. PIMs per Game')\n",
    "plt.ylabel('home vs. away')"
   ]
  },
  {
   "cell_type": "code",
   "execution_count": 19,
   "metadata": {},
   "outputs": [
    {
     "data": {
      "text/plain": [
       "Text(0, 0.5, 'Giveaways & Takeaways')"
      ]
     },
     "execution_count": 19,
     "metadata": {},
     "output_type": "execute_result"
    },
    {
     "data": {
      "image/png": "[encoded data removed]",
      "text/plain": [
       "<Figure size 720x360 with 1 Axes>"
      ]
     },
     "metadata": {
      "needs_background": "light"
     },
     "output_type": "display_data"
    }
   ],
   "source": [
    "df[['takeaways_home','takeaways_away','giveaways_home','giveaways_away']].mean().plot(kind='barh',figsize=(10,5))\n",
    "plt.xlabel('Avg. per Game')\n",
    "plt.ylabel('Giveaways & Takeaways')"
   ]
  },
  {
   "cell_type": "code",
   "execution_count": 20,
   "metadata": {},
   "outputs": [],
   "source": [
    "grouped = df.groupby(['season_home','won_home']).count().reset_index()"
   ]
  },
  {
   "cell_type": "code",
   "execution_count": 21,
   "metadata": {},
   "outputs": [
    {
     "data": {
      "text/html": [
       "<div>\n",
       "<style scoped>\n",
       "    .dataframe tbody tr th:only-of-type {\n",
       "        vertical-align: middle;\n",
       "    }\n",
       "\n",
       "    .dataframe tbody tr th {\n",
       "        vertical-align: top;\n",
       "    }\n",
       "\n",
       "    .dataframe thead th {\n",
       "        text-align: right;\n",
       "    }\n",
       "</style>\n",
       "<table border=\"1\" class=\"dataframe\">\n",
       "  <thead>\n",
       "    <tr style=\"text-align: right;\">\n",
       "      <th></th>\n",
       "      <th>season_home</th>\n",
       "      <th>won_home</th>\n",
       "      <th>game_id</th>\n",
       "      <th>type_home</th>\n",
       "      <th>date_time_home</th>\n",
       "      <th>away_team_id_home</th>\n",
       "      <th>home_team_id_home</th>\n",
       "      <th>away_goals_home</th>\n",
       "      <th>home_goals_home</th>\n",
       "      <th>team_id_home</th>\n",
       "      <th>...</th>\n",
       "      <th>takeaways_away</th>\n",
       "      <th>year_away</th>\n",
       "      <th>goal_diff</th>\n",
       "      <th>powerPlayOpportunities_diff</th>\n",
       "      <th>pim_diff</th>\n",
       "      <th>shots_diff</th>\n",
       "      <th>hits_diff</th>\n",
       "      <th>faceOffWinPercentage_diff</th>\n",
       "      <th>giveaways_diff</th>\n",
       "      <th>takeaways_diff</th>\n",
       "    </tr>\n",
       "  </thead>\n",
       "  <tbody>\n",
       "    <tr>\n",
       "      <th>0</th>\n",
       "      <td>20132014</td>\n",
       "      <td>False</td>\n",
       "      <td>570</td>\n",
       "      <td>570</td>\n",
       "      <td>570</td>\n",
       "      <td>570</td>\n",
       "      <td>570</td>\n",
       "      <td>570</td>\n",
       "      <td>570</td>\n",
       "      <td>570</td>\n",
       "      <td>...</td>\n",
       "      <td>570</td>\n",
       "      <td>570</td>\n",
       "      <td>570</td>\n",
       "      <td>570</td>\n",
       "      <td>570</td>\n",
       "      <td>570</td>\n",
       "      <td>570</td>\n",
       "      <td>570</td>\n",
       "      <td>570</td>\n",
       "      <td>570</td>\n",
       "    </tr>\n",
       "    <tr>\n",
       "      <th>1</th>\n",
       "      <td>20132014</td>\n",
       "      <td>True</td>\n",
       "      <td>660</td>\n",
       "      <td>660</td>\n",
       "      <td>660</td>\n",
       "      <td>660</td>\n",
       "      <td>660</td>\n",
       "      <td>660</td>\n",
       "      <td>660</td>\n",
       "      <td>660</td>\n",
       "      <td>...</td>\n",
       "      <td>660</td>\n",
       "      <td>660</td>\n",
       "      <td>660</td>\n",
       "      <td>660</td>\n",
       "      <td>660</td>\n",
       "      <td>660</td>\n",
       "      <td>660</td>\n",
       "      <td>660</td>\n",
       "      <td>660</td>\n",
       "      <td>660</td>\n",
       "    </tr>\n",
       "    <tr>\n",
       "      <th>2</th>\n",
       "      <td>20142015</td>\n",
       "      <td>False</td>\n",
       "      <td>564</td>\n",
       "      <td>564</td>\n",
       "      <td>564</td>\n",
       "      <td>564</td>\n",
       "      <td>564</td>\n",
       "      <td>564</td>\n",
       "      <td>564</td>\n",
       "      <td>564</td>\n",
       "      <td>...</td>\n",
       "      <td>564</td>\n",
       "      <td>564</td>\n",
       "      <td>564</td>\n",
       "      <td>564</td>\n",
       "      <td>564</td>\n",
       "      <td>564</td>\n",
       "      <td>564</td>\n",
       "      <td>564</td>\n",
       "      <td>564</td>\n",
       "      <td>564</td>\n",
       "    </tr>\n",
       "    <tr>\n",
       "      <th>3</th>\n",
       "      <td>20142015</td>\n",
       "      <td>True</td>\n",
       "      <td>666</td>\n",
       "      <td>666</td>\n",
       "      <td>666</td>\n",
       "      <td>666</td>\n",
       "      <td>666</td>\n",
       "      <td>666</td>\n",
       "      <td>666</td>\n",
       "      <td>666</td>\n",
       "      <td>...</td>\n",
       "      <td>666</td>\n",
       "      <td>666</td>\n",
       "      <td>666</td>\n",
       "      <td>666</td>\n",
       "      <td>666</td>\n",
       "      <td>666</td>\n",
       "      <td>666</td>\n",
       "      <td>666</td>\n",
       "      <td>666</td>\n",
       "      <td>666</td>\n",
       "    </tr>\n",
       "    <tr>\n",
       "      <th>4</th>\n",
       "      <td>20152016</td>\n",
       "      <td>False</td>\n",
       "      <td>579</td>\n",
       "      <td>579</td>\n",
       "      <td>579</td>\n",
       "      <td>579</td>\n",
       "      <td>579</td>\n",
       "      <td>579</td>\n",
       "      <td>579</td>\n",
       "      <td>579</td>\n",
       "      <td>...</td>\n",
       "      <td>579</td>\n",
       "      <td>579</td>\n",
       "      <td>579</td>\n",
       "      <td>579</td>\n",
       "      <td>579</td>\n",
       "      <td>579</td>\n",
       "      <td>579</td>\n",
       "      <td>579</td>\n",
       "      <td>579</td>\n",
       "      <td>579</td>\n",
       "    </tr>\n",
       "  </tbody>\n",
       "</table>\n",
       "<p>5 rows × 61 columns</p>\n",
       "</div>"
      ],
      "text/plain": [
       "   season_home  won_home  game_id  type_home  date_time_home  \\\n",
       "0     20132014     False      570        570             570   \n",
       "1     20132014      True      660        660             660   \n",
       "2     20142015     False      564        564             564   \n",
       "3     20142015      True      666        666             666   \n",
       "4     20152016     False      579        579             579   \n",
       "\n",
       "   away_team_id_home  home_team_id_home  away_goals_home  home_goals_home  \\\n",
       "0                570                570              570              570   \n",
       "1                660                660              660              660   \n",
       "2                564                564              564              564   \n",
       "3                666                666              666              666   \n",
       "4                579                579              579              579   \n",
       "\n",
       "   team_id_home       ...        takeaways_away  year_away  goal_diff  \\\n",
       "0           570       ...                   570        570        570   \n",
       "1           660       ...                   660        660        660   \n",
       "2           564       ...                   564        564        564   \n",
       "3           666       ...                   666        666        666   \n",
       "4           579       ...                   579        579        579   \n",
       "\n",
       "   powerPlayOpportunities_diff  pim_diff  shots_diff  hits_diff  \\\n",
       "0                          570       570         570        570   \n",
       "1                          660       660         660        660   \n",
       "2                          564       564         564        564   \n",
       "3                          666       666         666        666   \n",
       "4                          579       579         579        579   \n",
       "\n",
       "   faceOffWinPercentage_diff  giveaways_diff  takeaways_diff  \n",
       "0                        570             570             570  \n",
       "1                        660             660             660  \n",
       "2                        564             564             564  \n",
       "3                        666             666             666  \n",
       "4                        579             579             579  \n",
       "\n",
       "[5 rows x 61 columns]"
      ]
     },
     "execution_count": 21,
     "metadata": {},
     "output_type": "execute_result"
    }
   ],
   "source": [
    "grouped.head()"
   ]
  },
  {
   "cell_type": "code",
   "execution_count": 22,
   "metadata": {},
   "outputs": [],
   "source": [
    "win_pivot = grouped.pivot_table(values='game_id',columns='won_home',index='season_home').reset_index()"
   ]
  },
  {
   "cell_type": "code",
   "execution_count": 23,
   "metadata": {},
   "outputs": [
    {
     "data": {
      "text/plain": [
       "0    570\n",
       "1    564\n",
       "2    579\n",
       "3    542\n",
       "4    555\n",
       "dtype: int64"
      ]
     },
     "execution_count": 23,
     "metadata": {},
     "output_type": "execute_result"
    }
   ],
   "source": [
    "win_pivot[False]"
   ]
  },
  {
   "cell_type": "code",
   "execution_count": 24,
   "metadata": {},
   "outputs": [],
   "source": [
    "win_pivot['win_perc'] = win_pivot[True] / (win_pivot[True] + win_pivot[False])"
   ]
  },
  {
   "cell_type": "code",
   "execution_count": 25,
   "metadata": {},
   "outputs": [],
   "source": [
    "# win_pivot.plot(kind=barh)"
   ]
  },
  {
   "cell_type": "code",
   "execution_count": 26,
   "metadata": {},
   "outputs": [],
   "source": [
    "# goal_avg = df.groupby('season_home')[['goals_home']].mean() #Aggregate the data\n",
    "# goal_avg = goal_avg.sort_values(ascending=True) #Sort the Aggregation\n",
    "# plt.title('Avg. Goal by Team')\n",
    "# plt.xlabel('Goals')\n",
    "# plt.ylabel('Team')\n",
    "# goal_avg.plot(kind='barh',figsize=(15,10))"
   ]
  },
  {
   "cell_type": "code",
   "execution_count": 27,
   "metadata": {},
   "outputs": [],
   "source": [
    "# shot_avg = df.groupby('teamName_home')['shots_home'].mean() #Aggregate the data\n",
    "# shot_avg = shot_avg.sort_values(ascending=True) #Sort the Aggregation\n",
    "# plt.title('Avg. Shots by Team')\n",
    "# plt.xlabel('Shots')\n",
    "# plt.ylabel('Team')\n",
    "# goal_avg.plot(kind='barh',figsize=(15,10))"
   ]
  },
  {
   "cell_type": "code",
   "execution_count": 28,
   "metadata": {},
   "outputs": [],
   "source": [
    "# df.loc[(df.won_home == False)]"
   ]
  },
  {
   "cell_type": "code",
   "execution_count": 29,
   "metadata": {},
   "outputs": [],
   "source": [
    "# winning_goals = df[df.won_home==True].goals_home\n",
    "# plt.title('Winning Team Goals')\n",
    "# plt.ylabel('Goals')\n",
    "# plt.boxplot(list(winning_goals))"
   ]
  },
  {
   "cell_type": "code",
   "execution_count": 30,
   "metadata": {},
   "outputs": [],
   "source": [
    "# heat_matrix = df[['goal_diff', 'won_home']].pivot_table(\n",
    "#     index='goal_diff', columns='won_home', \n",
    "#     aggfunc=len, \n",
    "#     fill_value=0)"
   ]
  },
  {
   "cell_type": "code",
   "execution_count": 31,
   "metadata": {},
   "outputs": [],
   "source": [
    "# y_labels = heat_matrix.index\n",
    "# x_labels = heat_matrix.columns\n",
    "# data = np.array(heat_matrix)\n",
    "\n",
    "\n",
    "# fig, ax = plt.subplots()\n",
    "# im = ax.imshow(data, cmap='Blues')\n",
    "\n",
    "# # We want to show all ticks...\n",
    "# ax.set_xticks(np.arange(len(x_labels)))\n",
    "# ax.set_yticks(np.arange(len(y_labels)))\n",
    "# # ... and label them with the respective list entries\n",
    "# ax.set_xticklabels(x_labels)\n",
    "# ax.set_yticklabels(y_labels)\n",
    "\n",
    "# # Rotate the tick labels and set their alignment.\n",
    "# plt.setp(ax.get_xticklabels(), rotation=45, ha=\"right\",\n",
    "#          rotation_mode=\"anchor\")\n",
    "\n",
    "# # Loop over data dimensions and create text annotations.\n",
    "# for i in range(len(y_labels)):\n",
    "#     for j in range(len(x_labels)):\n",
    "#         value = data[i, j]\n",
    "#         if value < .5:\n",
    "#             text_color = 'black'\n",
    "#         else:\n",
    "#             text_color = 'white'\n",
    "#         text = ax.text(j, i, value,\n",
    "#                        ha=\"center\", va=\"center\", color=text_color)\n",
    "\n",
    "# ax.set_title(\"HoA vs. Win\")\n",
    "\n",
    "# # Create colorbar\n",
    "# cbar = ax.figure.colorbar(im, ax=ax)\n",
    "# cbar.ax.set_ylabel('Wins by Cat', rotation=-90, va=\"bottom\")\n",
    "\n",
    "# plt.xlabel('Win v. Lost')\n",
    "# plt.ylabel('Goals Scored')\n",
    "# fig.tight_layout()\n",
    "# plt.show()"
   ]
  },
  {
   "cell_type": "markdown",
   "metadata": {},
   "source": [
    "## Feature Selection: choosing variables to determine win/loss outcomes"
   ]
  },
  {
   "cell_type": "code",
   "execution_count": 48,
   "metadata": {},
   "outputs": [],
   "source": [
    "for col in ['teamName_home','settled_in_home']:\n",
    "    df[col] = df[col].astype(str)\n",
    "X_dummies = pd.get_dummies(df[['teamName_home','settled_in_home']],\n",
    "                   drop_first=True\n",
    "                  )\n",
    "\n",
    "# for col in ['teamName_home']:\n",
    "#     df[col] = df[col].astype(str)\n",
    "# X_dummies = pd.get_dummies(df[['teamName_home']],\n",
    "#                    drop_first=True\n",
    "#                   )\n",
    "# This uses home & away team diff\n",
    "X_numeric = df[['powerPlayOpportunities_diff', 'pim_diff', 'shots_diff',\n",
    "                'hits_diff','faceOffWinPercentage_diff','giveaways_diff','takeaways_diff']]\n",
    "\n",
    "# This uses both home & away stats\n",
    "# X_numeric = df[['powerPlayOpportunities_home','pim_home','shots_home',\n",
    "#             'hits_home','faceOffWinPercentage_home', 'giveaways_home', 'takeaways_home',\n",
    "#         'powerPlayOpportunities_away','pim_away','shots_away',\n",
    "#             'hits_away','faceOffWinPercentage_away','giveaways_away','takeaways_away']]\n",
    "\n",
    "X = pd.concat([X_numeric,X_dummies], axis=1)\n",
    "y = df['won_home']\n",
    "\n",
    "# Train/Test scores home/away, OT vs. Reg variables\n",
    "# Train score: 0.6266963857698419\n",
    "# Test score: 0.6196424725393065\n",
    "\n",
    "# Train/Test scores home/away variables\n",
    "# Train score: 0.6251886064598329\n",
    "# Test score: 0.624596166271807"
   ]
  },
  {
   "cell_type": "markdown",
   "metadata": {},
   "source": [
    "## Machine Learning - Build Confusion Plots"
   ]
  },
  {
   "cell_type": "code",
   "execution_count": 49,
   "metadata": {},
   "outputs": [],
   "source": [
    "def plot_confusion_matrix(cm, normalize=True, digits=4):\n",
    "    plt_df = (pd.DataFrame(cm)\n",
    "              .reset_index()\n",
    "              .melt(id_vars='index')\n",
    "              .assign(index = lambda d: pd.Categorical(d['index'], d['index'].unique()[::-1], ordered=True),\n",
    "                      variable = lambda d: pd.Categorical(d['variable'], d['variable'].unique(), ordered=True))\n",
    "              .rename(columns={'index':'true label', 'variable':'predicted label'})\n",
    "             )\n",
    "    \n",
    "    if normalize:\n",
    "        plt_df = (plt_df\n",
    "                  .assign(true_total = lambda d: d.groupby('true label')['value'].transform(lambda x: x.sum()))\n",
    "                  .assign(value = lambda d: (d['value'] / d['true_total']).round(digits))\n",
    "                 )\n",
    "        \n",
    "    plt = (ggplot(plt_df, aes(x='predicted label', y='true label'))\n",
    "            + geom_tile(aes(fill='value')) \n",
    "            + geom_text(aes(label='value'))\n",
    "            + theme_minimal()\n",
    "            + scale_fill_gradient(low = \"snow\", high = \"steelblue\")\n",
    "            + theme(legend_title=element_blank())\n",
    "           )\n",
    "    return plt"
   ]
  },
  {
   "cell_type": "code",
   "execution_count": 50,
   "metadata": {},
   "outputs": [],
   "source": [
    "X_tr, X_te, y_tr, y_te = train_test_split(X, y, random_state=0)"
   ]
  },
  {
   "cell_type": "markdown",
   "metadata": {},
   "source": [
    "## Part I: Logistic Regression"
   ]
  },
  {
   "cell_type": "code",
   "execution_count": 51,
   "metadata": {},
   "outputs": [
    {
     "name": "stdout",
     "output_type": "stream",
     "text": [
      "CPU times: user 3.45 s, sys: 289 ms, total: 3.74 s\n",
      "Wall time: 1.94 s\n"
     ]
    }
   ],
   "source": [
    "%%time\n",
    "\n",
    "params = {\n",
    "    'C': np.logspace(-2, 0, num=20)\n",
    "}\n",
    "regression = LogisticRegression()\n",
    "grid_logit = GridSearchCV(regression, params, cv=5, refit=True, return_train_score=True)\n",
    "with warnings.catch_warnings():\n",
    "    warnings.simplefilter('ignore')\n",
    "    grid_logit.fit(X_tr, y_tr)"
   ]
  },
  {
   "cell_type": "code",
   "execution_count": 52,
   "metadata": {},
   "outputs": [
    {
     "name": "stdout",
     "output_type": "stream",
     "text": [
      "LogisticRegression(C=0.06951927961775606, class_weight=None, dual=False,\n",
      "          fit_intercept=True, intercept_scaling=1, max_iter=100,\n",
      "          multi_class='warn', n_jobs=None, penalty='l2', random_state=None,\n",
      "          solver='warn', tol=0.0001, verbose=0, warm_start=False)\n",
      "Train score: 0.6266425354736652\n",
      "Test score: 0.6196424725393065\n"
     ]
    },
    {
     "data": {
      "text/html": [
       "<div>\n",
       "<style scoped>\n",
       "    .dataframe tbody tr th:only-of-type {\n",
       "        vertical-align: middle;\n",
       "    }\n",
       "\n",
       "    .dataframe tbody tr th {\n",
       "        vertical-align: top;\n",
       "    }\n",
       "\n",
       "    .dataframe thead th {\n",
       "        text-align: right;\n",
       "    }\n",
       "</style>\n",
       "<table border=\"1\" class=\"dataframe\">\n",
       "  <thead>\n",
       "    <tr style=\"text-align: right;\">\n",
       "      <th></th>\n",
       "      <th>mean_fit_time</th>\n",
       "      <th>std_fit_time</th>\n",
       "      <th>mean_score_time</th>\n",
       "      <th>std_score_time</th>\n",
       "      <th>param_C</th>\n",
       "      <th>params</th>\n",
       "      <th>split0_test_score</th>\n",
       "      <th>split1_test_score</th>\n",
       "      <th>split2_test_score</th>\n",
       "      <th>split3_test_score</th>\n",
       "      <th>...</th>\n",
       "      <th>mean_test_score</th>\n",
       "      <th>std_test_score</th>\n",
       "      <th>rank_test_score</th>\n",
       "      <th>split0_train_score</th>\n",
       "      <th>split1_train_score</th>\n",
       "      <th>split2_train_score</th>\n",
       "      <th>split3_train_score</th>\n",
       "      <th>split4_train_score</th>\n",
       "      <th>mean_train_score</th>\n",
       "      <th>std_train_score</th>\n",
       "    </tr>\n",
       "  </thead>\n",
       "  <tbody>\n",
       "    <tr>\n",
       "      <th>0</th>\n",
       "      <td>0.015217</td>\n",
       "      <td>0.003092</td>\n",
       "      <td>0.001633</td>\n",
       "      <td>0.000486</td>\n",
       "      <td>0.01</td>\n",
       "      <td>{'C': 0.01}</td>\n",
       "      <td>0.600646</td>\n",
       "      <td>0.606028</td>\n",
       "      <td>0.600646</td>\n",
       "      <td>0.617869</td>\n",
       "      <td>...</td>\n",
       "      <td>0.610381</td>\n",
       "      <td>0.010317</td>\n",
       "      <td>19</td>\n",
       "      <td>0.618471</td>\n",
       "      <td>0.612547</td>\n",
       "      <td>0.619548</td>\n",
       "      <td>0.614970</td>\n",
       "      <td>0.614639</td>\n",
       "      <td>0.616035</td>\n",
       "      <td>0.002589</td>\n",
       "    </tr>\n",
       "    <tr>\n",
       "      <th>1</th>\n",
       "      <td>0.013979</td>\n",
       "      <td>0.002462</td>\n",
       "      <td>0.001221</td>\n",
       "      <td>0.000363</td>\n",
       "      <td>0.0127427</td>\n",
       "      <td>{'C': 0.012742749857031334}</td>\n",
       "      <td>0.599569</td>\n",
       "      <td>0.609257</td>\n",
       "      <td>0.599569</td>\n",
       "      <td>0.618945</td>\n",
       "      <td>...</td>\n",
       "      <td>0.609735</td>\n",
       "      <td>0.009238</td>\n",
       "      <td>20</td>\n",
       "      <td>0.618471</td>\n",
       "      <td>0.612009</td>\n",
       "      <td>0.617932</td>\n",
       "      <td>0.618201</td>\n",
       "      <td>0.616792</td>\n",
       "      <td>0.616681</td>\n",
       "      <td>0.002405</td>\n",
       "    </tr>\n",
       "    <tr>\n",
       "      <th>2</th>\n",
       "      <td>0.012007</td>\n",
       "      <td>0.000658</td>\n",
       "      <td>0.001013</td>\n",
       "      <td>0.000044</td>\n",
       "      <td>0.0162378</td>\n",
       "      <td>{'C': 0.016237767391887217}</td>\n",
       "      <td>0.603875</td>\n",
       "      <td>0.615716</td>\n",
       "      <td>0.601722</td>\n",
       "      <td>0.624327</td>\n",
       "      <td>...</td>\n",
       "      <td>0.613827</td>\n",
       "      <td>0.009521</td>\n",
       "      <td>14</td>\n",
       "      <td>0.621163</td>\n",
       "      <td>0.613624</td>\n",
       "      <td>0.619817</td>\n",
       "      <td>0.620625</td>\n",
       "      <td>0.615716</td>\n",
       "      <td>0.618189</td>\n",
       "      <td>0.002979</td>\n",
       "    </tr>\n",
       "    <tr>\n",
       "      <th>3</th>\n",
       "      <td>0.012538</td>\n",
       "      <td>0.000661</td>\n",
       "      <td>0.001015</td>\n",
       "      <td>0.000054</td>\n",
       "      <td>0.0206914</td>\n",
       "      <td>{'C': 0.0206913808111479}</td>\n",
       "      <td>0.604952</td>\n",
       "      <td>0.615716</td>\n",
       "      <td>0.602799</td>\n",
       "      <td>0.624327</td>\n",
       "      <td>...</td>\n",
       "      <td>0.614904</td>\n",
       "      <td>0.009750</td>\n",
       "      <td>9</td>\n",
       "      <td>0.623586</td>\n",
       "      <td>0.619009</td>\n",
       "      <td>0.622240</td>\n",
       "      <td>0.621702</td>\n",
       "      <td>0.614101</td>\n",
       "      <td>0.620128</td>\n",
       "      <td>0.003361</td>\n",
       "    </tr>\n",
       "    <tr>\n",
       "      <th>4</th>\n",
       "      <td>0.012969</td>\n",
       "      <td>0.000652</td>\n",
       "      <td>0.001017</td>\n",
       "      <td>0.000029</td>\n",
       "      <td>0.0263665</td>\n",
       "      <td>{'C': 0.026366508987303583}</td>\n",
       "      <td>0.604952</td>\n",
       "      <td>0.613563</td>\n",
       "      <td>0.604952</td>\n",
       "      <td>0.621098</td>\n",
       "      <td>...</td>\n",
       "      <td>0.615550</td>\n",
       "      <td>0.010690</td>\n",
       "      <td>7</td>\n",
       "      <td>0.625740</td>\n",
       "      <td>0.619009</td>\n",
       "      <td>0.621971</td>\n",
       "      <td>0.624394</td>\n",
       "      <td>0.613832</td>\n",
       "      <td>0.620989</td>\n",
       "      <td>0.004249</td>\n",
       "    </tr>\n",
       "  </tbody>\n",
       "</table>\n",
       "<p>5 rows × 21 columns</p>\n",
       "</div>"
      ],
      "text/plain": [
       "   mean_fit_time  std_fit_time  mean_score_time  std_score_time    param_C  \\\n",
       "0       0.015217      0.003092         0.001633        0.000486       0.01   \n",
       "1       0.013979      0.002462         0.001221        0.000363  0.0127427   \n",
       "2       0.012007      0.000658         0.001013        0.000044  0.0162378   \n",
       "3       0.012538      0.000661         0.001015        0.000054  0.0206914   \n",
       "4       0.012969      0.000652         0.001017        0.000029  0.0263665   \n",
       "\n",
       "                        params  split0_test_score  split1_test_score  \\\n",
       "0                  {'C': 0.01}           0.600646           0.606028   \n",
       "1  {'C': 0.012742749857031334}           0.599569           0.609257   \n",
       "2  {'C': 0.016237767391887217}           0.603875           0.615716   \n",
       "3    {'C': 0.0206913808111479}           0.604952           0.615716   \n",
       "4  {'C': 0.026366508987303583}           0.604952           0.613563   \n",
       "\n",
       "   split2_test_score  split3_test_score       ...         mean_test_score  \\\n",
       "0           0.600646           0.617869       ...                0.610381   \n",
       "1           0.599569           0.618945       ...                0.609735   \n",
       "2           0.601722           0.624327       ...                0.613827   \n",
       "3           0.602799           0.624327       ...                0.614904   \n",
       "4           0.604952           0.621098       ...                0.615550   \n",
       "\n",
       "   std_test_score  rank_test_score  split0_train_score  split1_train_score  \\\n",
       "0        0.010317               19            0.618471            0.612547   \n",
       "1        0.009238               20            0.618471            0.612009   \n",
       "2        0.009521               14            0.621163            0.613624   \n",
       "3        0.009750                9            0.623586            0.619009   \n",
       "4        0.010690                7            0.625740            0.619009   \n",
       "\n",
       "   split2_train_score  split3_train_score  split4_train_score  \\\n",
       "0            0.619548            0.614970            0.614639   \n",
       "1            0.617932            0.618201            0.616792   \n",
       "2            0.619817            0.620625            0.615716   \n",
       "3            0.622240            0.621702            0.614101   \n",
       "4            0.621971            0.624394            0.613832   \n",
       "\n",
       "   mean_train_score  std_train_score  \n",
       "0          0.616035         0.002589  \n",
       "1          0.616681         0.002405  \n",
       "2          0.618189         0.002979  \n",
       "3          0.620128         0.003361  \n",
       "4          0.620989         0.004249  \n",
       "\n",
       "[5 rows x 21 columns]"
      ]
     },
     "execution_count": 52,
     "metadata": {},
     "output_type": "execute_result"
    }
   ],
   "source": [
    "print(grid_logit.best_estimator_)\n",
    "cv_results = pd.DataFrame(grid_logit.cv_results_)\n",
    "print('Train score:', cv_results.loc[lambda d: d['rank_test_score'] == 1, 'mean_train_score'].values[0])\n",
    "print('Test score:', cv_results.loc[lambda d: d['rank_test_score'] == 1, 'mean_test_score'].values[0])\n",
    "\n",
    "cv_results.head()"
   ]
  },
  {
   "cell_type": "code",
   "execution_count": 53,
   "metadata": {},
   "outputs": [
    {
     "data": {
      "image/png": "[encoded data removed]",
      "text/plain": [
       "<Figure size 640x480 with 1 Axes>"
      ]
     },
     "metadata": {
      "needs_background": "light"
     },
     "output_type": "display_data"
    },
    {
     "data": {
      "text/plain": [
       "<ggplot: (302327756)>"
      ]
     },
     "execution_count": 53,
     "metadata": {},
     "output_type": "execute_result"
    }
   ],
   "source": [
    "pred = grid_logit.best_estimator_.predict(X_te)\n",
    "cm = confusion_matrix(y_te, pred)\n",
    "plot_confusion_matrix(cm, normalize=True)"
   ]
  },
  {
   "cell_type": "markdown",
   "metadata": {},
   "source": [
    "## Part II: Gradient Boosting Classifier"
   ]
  },
  {
   "cell_type": "code",
   "execution_count": 54,
   "metadata": {},
   "outputs": [
    {
     "name": "stdout",
     "output_type": "stream",
     "text": [
      "CPU times: user 40 s, sys: 95.3 ms, total: 40 s\n",
      "Wall time: 40.2 s\n"
     ]
    }
   ],
   "source": [
    "%%time\n",
    "params = { \n",
    "    'n_estimators': [100, 200],\n",
    "    'subsample': [1],\n",
    "    'max_depth' : [2, 4, 6, 8],\n",
    "    'min_samples_split': [20],\n",
    "    'min_samples_leaf': [20]\n",
    "}\n",
    "\n",
    "gbc = GradientBoostingClassifier()\n",
    "gscv = GridSearchCV(gbc, params, cv=5, refit=True, return_train_score=True)\n",
    "with warnings.catch_warnings():\n",
    "    warnings.simplefilter('ignore')\n",
    "    gscv.fit(X_tr, y_tr)"
   ]
  },
  {
   "cell_type": "code",
   "execution_count": 55,
   "metadata": {},
   "outputs": [
    {
     "name": "stdout",
     "output_type": "stream",
     "text": [
      "GradientBoostingClassifier(criterion='friedman_mse', init=None,\n",
      "              learning_rate=0.1, loss='deviance', max_depth=2,\n",
      "              max_features=None, max_leaf_nodes=None,\n",
      "              min_impurity_decrease=0.0, min_impurity_split=None,\n",
      "              min_samples_leaf=20, min_samples_split=20,\n",
      "              min_weight_fraction_leaf=0.0, n_estimators=200,\n",
      "              n_iter_no_change=None, presort='auto', random_state=None,\n",
      "              subsample=1, tol=0.0001, validation_fraction=0.1, verbose=0,\n",
      "              warm_start=False)\n",
      "Train score: 0.6718715673334482\n",
      "Test score: 0.6101658410510445\n"
     ]
    }
   ],
   "source": [
    "print(gscv.best_estimator_)\n",
    "cv_results = pd.DataFrame(gscv.cv_results_)\n",
    "print('Train score:', cv_results.loc[lambda d: d['rank_test_score'] == 1, 'mean_train_score'].values[0])\n",
    "print('Test score:', cv_results.loc[lambda d: d['rank_test_score'] == 1, 'mean_test_score'].values[0])"
   ]
  },
  {
   "cell_type": "code",
   "execution_count": 56,
   "metadata": {},
   "outputs": [
    {
     "data": {
      "image/png": "[encoded data removed]",
      "text/plain": [
       "<Figure size 640x480 with 1 Axes>"
      ]
     },
     "metadata": {
      "needs_background": "light"
     },
     "output_type": "display_data"
    },
    {
     "data": {
      "text/plain": [
       "<ggplot: (303480875)>"
      ]
     },
     "execution_count": 56,
     "metadata": {},
     "output_type": "execute_result"
    }
   ],
   "source": [
    "pred = gscv.best_estimator_.predict(X_te)\n",
    "cm = confusion_matrix(y_te, pred)\n",
    "plot_confusion_matrix(cm, normalize=True)"
   ]
  },
  {
   "cell_type": "markdown",
   "metadata": {},
   "source": [
    "# Presentation"
   ]
  },
  {
   "cell_type": "markdown",
   "metadata": {},
   "source": [
    "## Plotting True vs. False   |  |  Positives vs. Negatives"
   ]
  },
  {
   "cell_type": "code",
   "execution_count": 57,
   "metadata": {},
   "outputs": [],
   "source": [
    "df_log = pd.DataFrame({'True': [0.39405, 0.220284],\n",
    "                    'False': [0.15956, 0.22609]},\n",
    "                    index=['Positive','Negative'])"
   ]
  },
  {
   "cell_type": "code",
   "execution_count": 59,
   "metadata": {},
   "outputs": [
    {
     "data": {
      "text/plain": [
       "Text(0, 0.5, 'Percent (decimal)')"
      ]
     },
     "execution_count": 59,
     "metadata": {},
     "output_type": "execute_result"
    },
    {
     "data": {
      "image/png": "[encoded data removed]",
      "text/plain": [
       "<Figure size 720x360 with 1 Axes>"
      ]
     },
     "metadata": {
      "needs_background": "light"
     },
     "output_type": "display_data"
    }
   ],
   "source": [
    "df_log.plot(kind='bar',figsize=(10,5),colormap='summer')\n",
    "plt.title('True vs. False Positive & Negative | LogReg')\n",
    "plt.xlabel('Positive & Negative')\n",
    "plt.ylabel('Percent (decimal)')"
   ]
  },
  {
   "cell_type": "code",
   "execution_count": 43,
   "metadata": {},
   "outputs": [],
   "source": [
    "df_gscv = pd.DataFrame({'True': [0.3908268, 0.22351],\n",
    "                    'False': [0.16279, 0.222868]},\n",
    "                    index=['Positive','Negative'])"
   ]
  },
  {
   "cell_type": "code",
   "execution_count": 44,
   "metadata": {},
   "outputs": [
    {
     "data": {
      "text/plain": [
       "Text(0, 0.5, 'Percent')"
      ]
     },
     "execution_count": 44,
     "metadata": {},
     "output_type": "execute_result"
    },
    {
     "data": {
      "image/png": "[encoded data removed]",
      "text/plain": [
       "<Figure size 720x360 with 1 Axes>"
      ]
     },
     "metadata": {
      "needs_background": "light"
     },
     "output_type": "display_data"
    }
   ],
   "source": [
    "df_log.plot(kind='bar',figsize=(10,5),colormap='cool')\n",
    "plt.title('True vs. False Positive & Negative | Gradient ')\n",
    "plt.xlabel('Positive & Negative')\n",
    "plt.ylabel('Percent')"
   ]
  },
  {
   "cell_type": "markdown",
   "metadata": {},
   "source": [
    "## Build a Decision Tree"
   ]
  },
  {
   "cell_type": "code",
   "execution_count": 70,
   "metadata": {},
   "outputs": [
    {
     "data": {
      "text/plain": [
       "DecisionTreeClassifier(class_weight=None, criterion='gini', max_depth=3,\n",
       "            max_features=None, max_leaf_nodes=None,\n",
       "            min_impurity_decrease=0.0, min_impurity_split=None,\n",
       "            min_samples_leaf=1, min_samples_split=2,\n",
       "            min_weight_fraction_leaf=0.0, presort=False, random_state=None,\n",
       "            splitter='best')"
      ]
     },
     "execution_count": 70,
     "metadata": {},
     "output_type": "execute_result"
    }
   ],
   "source": [
    "clf_nhl = DecisionTreeClassifier(criterion='gini',max_depth=3)\n",
    "clf_nhl.fit(X, y)"
   ]
  },
  {
   "cell_type": "code",
   "execution_count": 71,
   "metadata": {},
   "outputs": [
    {
     "data": {
      "image/svg+xml": [
       "<?xml version=\"1.0\" encoding=\"UTF-8\" standalone=\"no\"?>\n",
       "<!DOCTYPE svg PUBLIC \"-//W3C//DTD SVG 1.1//EN\"\n",
       " \"http://www.w3.org/Graphics/SVG/1.1/DTD/svg11.dtd\">\n",
       "<!-- Generated by graphviz version 2.40.1 (20161225.0304)\n",
       " -->\n",
       "<!-- Title: Tree Pages: 1 -->\n",
       "<svg width=\"1066pt\" height=\"373pt\"\n",
       " viewBox=\"0.00 0.00 1066.00 373.00\" xmlns=\"http://www.w3.org/2000/svg\" xmlns:xlink=\"http://www.w3.org/1999/xlink\">\n",
       "<g id=\"graph0\" class=\"graph\" transform=\"scale(1 1) rotate(0) translate(4 369)\">\n",
       "<title>Tree</title>\n",
       "<polygon fill=\"#ffffff\" stroke=\"transparent\" points=\"-4,4 -4,-369 1062,-369 1062,4 -4,4\"/>\n",
       "<!-- 0 -->\n",
       "<g id=\"node1\" class=\"node\">\n",
       "<title>0</title>\n",
       "<polygon fill=\"none\" stroke=\"#000000\" points=\"590,-365 456,-365 456,-297 590,-297 590,-365\"/>\n",
       "<text text-anchor=\"middle\" x=\"523\" y=\"-349.8\" font-family=\"Times,serif\" font-size=\"14.00\" fill=\"#000000\">X[6] &lt;= 3.5</text>\n",
       "<text text-anchor=\"middle\" x=\"523\" y=\"-334.8\" font-family=\"Times,serif\" font-size=\"14.00\" fill=\"#000000\">gini = 0.496</text>\n",
       "<text text-anchor=\"middle\" x=\"523\" y=\"-319.8\" font-family=\"Times,serif\" font-size=\"14.00\" fill=\"#000000\">samples = 6191</text>\n",
       "<text text-anchor=\"middle\" x=\"523\" y=\"-304.8\" font-family=\"Times,serif\" font-size=\"14.00\" fill=\"#000000\">value = [2810, 3381]</text>\n",
       "</g>\n",
       "<!-- 1 -->\n",
       "<g id=\"node2\" class=\"node\">\n",
       "<title>1</title>\n",
       "<polygon fill=\"none\" stroke=\"#000000\" points=\"456,-261 322,-261 322,-193 456,-193 456,-261\"/>\n",
       "<text text-anchor=\"middle\" x=\"389\" y=\"-245.8\" font-family=\"Times,serif\" font-size=\"14.00\" fill=\"#000000\">X[3] &lt;= &#45;3.5</text>\n",
       "<text text-anchor=\"middle\" x=\"389\" y=\"-230.8\" font-family=\"Times,serif\" font-size=\"14.00\" fill=\"#000000\">gini = 0.5</text>\n",
       "<text text-anchor=\"middle\" x=\"389\" y=\"-215.8\" font-family=\"Times,serif\" font-size=\"14.00\" fill=\"#000000\">samples = 4196</text>\n",
       "<text text-anchor=\"middle\" x=\"389\" y=\"-200.8\" font-family=\"Times,serif\" font-size=\"14.00\" fill=\"#000000\">value = [2089, 2107]</text>\n",
       "</g>\n",
       "<!-- 0&#45;&gt;1 -->\n",
       "<g id=\"edge1\" class=\"edge\">\n",
       "<title>0&#45;&gt;1</title>\n",
       "<path fill=\"none\" stroke=\"#000000\" d=\"M479.1234,-296.9465C466.9765,-287.519 453.6738,-277.1946 441.1073,-267.4415\"/>\n",
       "<polygon fill=\"#000000\" stroke=\"#000000\" points=\"443.021,-264.4963 432.9752,-261.13 438.7291,-270.0262 443.021,-264.4963\"/>\n",
       "<text text-anchor=\"middle\" x=\"436.1017\" y=\"-282.2337\" font-family=\"Times,serif\" font-size=\"14.00\" fill=\"#000000\">True</text>\n",
       "</g>\n",
       "<!-- 8 -->\n",
       "<g id=\"node9\" class=\"node\">\n",
       "<title>8</title>\n",
       "<polygon fill=\"none\" stroke=\"#000000\" points=\"724.5,-261 597.5,-261 597.5,-193 724.5,-193 724.5,-261\"/>\n",
       "<text text-anchor=\"middle\" x=\"661\" y=\"-245.8\" font-family=\"Times,serif\" font-size=\"14.00\" fill=\"#000000\">X[3] &lt;= 9.5</text>\n",
       "<text text-anchor=\"middle\" x=\"661\" y=\"-230.8\" font-family=\"Times,serif\" font-size=\"14.00\" fill=\"#000000\">gini = 0.462</text>\n",
       "<text text-anchor=\"middle\" x=\"661\" y=\"-215.8\" font-family=\"Times,serif\" font-size=\"14.00\" fill=\"#000000\">samples = 1995</text>\n",
       "<text text-anchor=\"middle\" x=\"661\" y=\"-200.8\" font-family=\"Times,serif\" font-size=\"14.00\" fill=\"#000000\">value = [721, 1274]</text>\n",
       "</g>\n",
       "<!-- 0&#45;&gt;8 -->\n",
       "<g id=\"edge8\" class=\"edge\">\n",
       "<title>0&#45;&gt;8</title>\n",
       "<path fill=\"none\" stroke=\"#000000\" d=\"M568.1864,-296.9465C580.815,-287.4293 594.6567,-276.9978 607.7068,-267.163\"/>\n",
       "<polygon fill=\"#000000\" stroke=\"#000000\" points=\"609.8325,-269.9437 615.7121,-261.13 605.6195,-264.3534 609.8325,-269.9437\"/>\n",
       "<text text-anchor=\"middle\" x=\"612.2339\" y=\"-282.1869\" font-family=\"Times,serif\" font-size=\"14.00\" fill=\"#000000\">False</text>\n",
       "</g>\n",
       "<!-- 2 -->\n",
       "<g id=\"node3\" class=\"node\">\n",
       "<title>2</title>\n",
       "<polygon fill=\"none\" stroke=\"#000000\" points=\"244,-157 124,-157 124,-89 244,-89 244,-157\"/>\n",
       "<text text-anchor=\"middle\" x=\"184\" y=\"-141.8\" font-family=\"Times,serif\" font-size=\"14.00\" fill=\"#000000\">X[6] &lt;= &#45;3.5</text>\n",
       "<text text-anchor=\"middle\" x=\"184\" y=\"-126.8\" font-family=\"Times,serif\" font-size=\"14.00\" fill=\"#000000\">gini = 0.475</text>\n",
       "<text text-anchor=\"middle\" x=\"184\" y=\"-111.8\" font-family=\"Times,serif\" font-size=\"14.00\" fill=\"#000000\">samples = 1148</text>\n",
       "<text text-anchor=\"middle\" x=\"184\" y=\"-96.8\" font-family=\"Times,serif\" font-size=\"14.00\" fill=\"#000000\">value = [446, 702]</text>\n",
       "</g>\n",
       "<!-- 1&#45;&gt;2 -->\n",
       "<g id=\"edge2\" class=\"edge\">\n",
       "<title>1&#45;&gt;2</title>\n",
       "<path fill=\"none\" stroke=\"#000000\" d=\"M321.8753,-192.9465C299.8098,-181.7523 275.2512,-169.2933 253.0455,-158.0279\"/>\n",
       "<polygon fill=\"#000000\" stroke=\"#000000\" points=\"254.5153,-154.849 244.0137,-153.446 251.3483,-161.0916 254.5153,-154.849\"/>\n",
       "</g>\n",
       "<!-- 5 -->\n",
       "<g id=\"node6\" class=\"node\">\n",
       "<title>5</title>\n",
       "<polygon fill=\"none\" stroke=\"#000000\" points=\"456,-157 322,-157 322,-89 456,-89 456,-157\"/>\n",
       "<text text-anchor=\"middle\" x=\"389\" y=\"-141.8\" font-family=\"Times,serif\" font-size=\"14.00\" fill=\"#000000\">X[6] &lt;= 0.5</text>\n",
       "<text text-anchor=\"middle\" x=\"389\" y=\"-126.8\" font-family=\"Times,serif\" font-size=\"14.00\" fill=\"#000000\">gini = 0.497</text>\n",
       "<text text-anchor=\"middle\" x=\"389\" y=\"-111.8\" font-family=\"Times,serif\" font-size=\"14.00\" fill=\"#000000\">samples = 3048</text>\n",
       "<text text-anchor=\"middle\" x=\"389\" y=\"-96.8\" font-family=\"Times,serif\" font-size=\"14.00\" fill=\"#000000\">value = [1643, 1405]</text>\n",
       "</g>\n",
       "<!-- 1&#45;&gt;5 -->\n",
       "<g id=\"edge5\" class=\"edge\">\n",
       "<title>1&#45;&gt;5</title>\n",
       "<path fill=\"none\" stroke=\"#000000\" d=\"M389,-192.9465C389,-184.776 389,-175.9318 389,-167.3697\"/>\n",
       "<polygon fill=\"#000000\" stroke=\"#000000\" points=\"392.5001,-167.13 389,-157.13 385.5001,-167.13 392.5001,-167.13\"/>\n",
       "</g>\n",
       "<!-- 3 -->\n",
       "<g id=\"node4\" class=\"node\">\n",
       "<title>3</title>\n",
       "<polygon fill=\"none\" stroke=\"#000000\" points=\"106,-53 0,-53 0,0 106,0 106,-53\"/>\n",
       "<text text-anchor=\"middle\" x=\"53\" y=\"-37.8\" font-family=\"Times,serif\" font-size=\"14.00\" fill=\"#000000\">gini = 0.493</text>\n",
       "<text text-anchor=\"middle\" x=\"53\" y=\"-22.8\" font-family=\"Times,serif\" font-size=\"14.00\" fill=\"#000000\">samples = 120</text>\n",
       "<text text-anchor=\"middle\" x=\"53\" y=\"-7.8\" font-family=\"Times,serif\" font-size=\"14.00\" fill=\"#000000\">value = [67, 53]</text>\n",
       "</g>\n",
       "<!-- 2&#45;&gt;3 -->\n",
       "<g id=\"edge3\" class=\"edge\">\n",
       "<title>2&#45;&gt;3</title>\n",
       "<path fill=\"none\" stroke=\"#000000\" d=\"M137.8143,-88.9777C124.7621,-79.3629 110.5861,-68.9203 97.6273,-59.3743\"/>\n",
       "<polygon fill=\"#000000\" stroke=\"#000000\" points=\"99.4386,-56.3615 89.3114,-53.2485 95.2869,-61.9974 99.4386,-56.3615\"/>\n",
       "</g>\n",
       "<!-- 4 -->\n",
       "<g id=\"node5\" class=\"node\">\n",
       "<title>4</title>\n",
       "<polygon fill=\"none\" stroke=\"#000000\" points=\"244,-53 124,-53 124,0 244,0 244,-53\"/>\n",
       "<text text-anchor=\"middle\" x=\"184\" y=\"-37.8\" font-family=\"Times,serif\" font-size=\"14.00\" fill=\"#000000\">gini = 0.466</text>\n",
       "<text text-anchor=\"middle\" x=\"184\" y=\"-22.8\" font-family=\"Times,serif\" font-size=\"14.00\" fill=\"#000000\">samples = 1028</text>\n",
       "<text text-anchor=\"middle\" x=\"184\" y=\"-7.8\" font-family=\"Times,serif\" font-size=\"14.00\" fill=\"#000000\">value = [379, 649]</text>\n",
       "</g>\n",
       "<!-- 2&#45;&gt;4 -->\n",
       "<g id=\"edge4\" class=\"edge\">\n",
       "<title>2&#45;&gt;4</title>\n",
       "<path fill=\"none\" stroke=\"#000000\" d=\"M184,-88.9777C184,-80.7364 184,-71.887 184,-63.5153\"/>\n",
       "<polygon fill=\"#000000\" stroke=\"#000000\" points=\"187.5001,-63.2484 184,-53.2485 180.5001,-63.2485 187.5001,-63.2484\"/>\n",
       "</g>\n",
       "<!-- 6 -->\n",
       "<g id=\"node7\" class=\"node\">\n",
       "<title>6</title>\n",
       "<polygon fill=\"none\" stroke=\"#000000\" points=\"382,-53 262,-53 262,0 382,0 382,-53\"/>\n",
       "<text text-anchor=\"middle\" x=\"322\" y=\"-37.8\" font-family=\"Times,serif\" font-size=\"14.00\" fill=\"#000000\">gini = 0.487</text>\n",
       "<text text-anchor=\"middle\" x=\"322\" y=\"-22.8\" font-family=\"Times,serif\" font-size=\"14.00\" fill=\"#000000\">samples = 1682</text>\n",
       "<text text-anchor=\"middle\" x=\"322\" y=\"-7.8\" font-family=\"Times,serif\" font-size=\"14.00\" fill=\"#000000\">value = [976, 706]</text>\n",
       "</g>\n",
       "<!-- 5&#45;&gt;6 -->\n",
       "<g id=\"edge6\" class=\"edge\">\n",
       "<title>5&#45;&gt;6</title>\n",
       "<path fill=\"none\" stroke=\"#000000\" d=\"M365.3783,-88.9777C359.2113,-80.0954 352.5539,-70.5067 346.3499,-61.5711\"/>\n",
       "<polygon fill=\"#000000\" stroke=\"#000000\" points=\"349.1497,-59.4666 340.5715,-53.2485 343.3997,-63.4589 349.1497,-59.4666\"/>\n",
       "</g>\n",
       "<!-- 7 -->\n",
       "<g id=\"node8\" class=\"node\">\n",
       "<title>7</title>\n",
       "<polygon fill=\"none\" stroke=\"#000000\" points=\"520,-53 400,-53 400,0 520,0 520,-53\"/>\n",
       "<text text-anchor=\"middle\" x=\"460\" y=\"-37.8\" font-family=\"Times,serif\" font-size=\"14.00\" fill=\"#000000\">gini = 0.5</text>\n",
       "<text text-anchor=\"middle\" x=\"460\" y=\"-22.8\" font-family=\"Times,serif\" font-size=\"14.00\" fill=\"#000000\">samples = 1366</text>\n",
       "<text text-anchor=\"middle\" x=\"460\" y=\"-7.8\" font-family=\"Times,serif\" font-size=\"14.00\" fill=\"#000000\">value = [667, 699]</text>\n",
       "</g>\n",
       "<!-- 5&#45;&gt;7 -->\n",
       "<g id=\"edge7\" class=\"edge\">\n",
       "<title>5&#45;&gt;7</title>\n",
       "<path fill=\"none\" stroke=\"#000000\" d=\"M414.0319,-88.9777C420.5671,-80.0954 427.622,-70.5067 434.1964,-61.5711\"/>\n",
       "<polygon fill=\"#000000\" stroke=\"#000000\" points=\"437.2126,-63.3775 440.3198,-53.2485 431.5743,-59.229 437.2126,-63.3775\"/>\n",
       "</g>\n",
       "<!-- 9 -->\n",
       "<g id=\"node10\" class=\"node\">\n",
       "<title>9</title>\n",
       "<polygon fill=\"none\" stroke=\"#000000\" points=\"724.5,-157 597.5,-157 597.5,-89 724.5,-89 724.5,-157\"/>\n",
       "<text text-anchor=\"middle\" x=\"661\" y=\"-141.8\" font-family=\"Times,serif\" font-size=\"14.00\" fill=\"#000000\">X[37] &lt;= 0.5</text>\n",
       "<text text-anchor=\"middle\" x=\"661\" y=\"-126.8\" font-family=\"Times,serif\" font-size=\"14.00\" fill=\"#000000\">gini = 0.444</text>\n",
       "<text text-anchor=\"middle\" x=\"661\" y=\"-111.8\" font-family=\"Times,serif\" font-size=\"14.00\" fill=\"#000000\">samples = 1659</text>\n",
       "<text text-anchor=\"middle\" x=\"661\" y=\"-96.8\" font-family=\"Times,serif\" font-size=\"14.00\" fill=\"#000000\">value = [552, 1107]</text>\n",
       "</g>\n",
       "<!-- 8&#45;&gt;9 -->\n",
       "<g id=\"edge9\" class=\"edge\">\n",
       "<title>8&#45;&gt;9</title>\n",
       "<path fill=\"none\" stroke=\"#000000\" d=\"M661,-192.9465C661,-184.776 661,-175.9318 661,-167.3697\"/>\n",
       "<polygon fill=\"#000000\" stroke=\"#000000\" points=\"664.5001,-167.13 661,-157.13 657.5001,-167.13 664.5001,-167.13\"/>\n",
       "</g>\n",
       "<!-- 12 -->\n",
       "<g id=\"node13\" class=\"node\">\n",
       "<title>12</title>\n",
       "<polygon fill=\"none\" stroke=\"#000000\" points=\"927,-157 807,-157 807,-89 927,-89 927,-157\"/>\n",
       "<text text-anchor=\"middle\" x=\"867\" y=\"-141.8\" font-family=\"Times,serif\" font-size=\"14.00\" fill=\"#000000\">X[4] &lt;= &#45;12.7</text>\n",
       "<text text-anchor=\"middle\" x=\"867\" y=\"-126.8\" font-family=\"Times,serif\" font-size=\"14.00\" fill=\"#000000\">gini = 0.5</text>\n",
       "<text text-anchor=\"middle\" x=\"867\" y=\"-111.8\" font-family=\"Times,serif\" font-size=\"14.00\" fill=\"#000000\">samples = 336</text>\n",
       "<text text-anchor=\"middle\" x=\"867\" y=\"-96.8\" font-family=\"Times,serif\" font-size=\"14.00\" fill=\"#000000\">value = [169, 167]</text>\n",
       "</g>\n",
       "<!-- 8&#45;&gt;12 -->\n",
       "<g id=\"edge12\" class=\"edge\">\n",
       "<title>8&#45;&gt;12</title>\n",
       "<path fill=\"none\" stroke=\"#000000\" d=\"M724.7689,-194.806C747.823,-183.1671 773.9598,-169.9717 797.4825,-158.0962\"/>\n",
       "<polygon fill=\"#000000\" stroke=\"#000000\" points=\"799.3489,-161.0748 806.6984,-153.4435 796.1941,-154.826 799.3489,-161.0748\"/>\n",
       "</g>\n",
       "<!-- 10 -->\n",
       "<g id=\"node11\" class=\"node\">\n",
       "<title>10</title>\n",
       "<polygon fill=\"none\" stroke=\"#000000\" points=\"658,-53 538,-53 538,0 658,0 658,-53\"/>\n",
       "<text text-anchor=\"middle\" x=\"598\" y=\"-37.8\" font-family=\"Times,serif\" font-size=\"14.00\" fill=\"#000000\">gini = 0.495</text>\n",
       "<text text-anchor=\"middle\" x=\"598\" y=\"-22.8\" font-family=\"Times,serif\" font-size=\"14.00\" fill=\"#000000\">samples = 390</text>\n",
       "<text text-anchor=\"middle\" x=\"598\" y=\"-7.8\" font-family=\"Times,serif\" font-size=\"14.00\" fill=\"#000000\">value = [175, 215]</text>\n",
       "</g>\n",
       "<!-- 9&#45;&gt;10 -->\n",
       "<g id=\"edge10\" class=\"edge\">\n",
       "<title>9&#45;&gt;10</title>\n",
       "<path fill=\"none\" stroke=\"#000000\" d=\"M638.7886,-88.9777C633.0496,-80.187 626.8588,-70.7044 621.0767,-61.8477\"/>\n",
       "<polygon fill=\"#000000\" stroke=\"#000000\" points=\"623.8602,-59.7087 615.4627,-53.2485 617.9987,-63.5354 623.8602,-59.7087\"/>\n",
       "</g>\n",
       "<!-- 11 -->\n",
       "<g id=\"node12\" class=\"node\">\n",
       "<title>11</title>\n",
       "<polygon fill=\"none\" stroke=\"#000000\" points=\"796,-53 676,-53 676,0 796,0 796,-53\"/>\n",
       "<text text-anchor=\"middle\" x=\"736\" y=\"-37.8\" font-family=\"Times,serif\" font-size=\"14.00\" fill=\"#000000\">gini = 0.418</text>\n",
       "<text text-anchor=\"middle\" x=\"736\" y=\"-22.8\" font-family=\"Times,serif\" font-size=\"14.00\" fill=\"#000000\">samples = 1269</text>\n",
       "<text text-anchor=\"middle\" x=\"736\" y=\"-7.8\" font-family=\"Times,serif\" font-size=\"14.00\" fill=\"#000000\">value = [377, 892]</text>\n",
       "</g>\n",
       "<!-- 9&#45;&gt;11 -->\n",
       "<g id=\"edge11\" class=\"edge\">\n",
       "<title>9&#45;&gt;11</title>\n",
       "<path fill=\"none\" stroke=\"#000000\" d=\"M687.4422,-88.9777C694.4167,-80.0039 701.9516,-70.3089 708.9573,-61.295\"/>\n",
       "<polygon fill=\"#000000\" stroke=\"#000000\" points=\"711.8379,-63.292 715.211,-53.2485 706.3109,-58.9964 711.8379,-63.292\"/>\n",
       "</g>\n",
       "<!-- 13 -->\n",
       "<g id=\"node14\" class=\"node\">\n",
       "<title>13</title>\n",
       "<polygon fill=\"none\" stroke=\"#000000\" points=\"920,-53 814,-53 814,0 920,0 920,-53\"/>\n",
       "<text text-anchor=\"middle\" x=\"867\" y=\"-37.8\" font-family=\"Times,serif\" font-size=\"14.00\" fill=\"#000000\">gini = 0.422</text>\n",
       "<text text-anchor=\"middle\" x=\"867\" y=\"-22.8\" font-family=\"Times,serif\" font-size=\"14.00\" fill=\"#000000\">samples = 43</text>\n",
       "<text text-anchor=\"middle\" x=\"867\" y=\"-7.8\" font-family=\"Times,serif\" font-size=\"14.00\" fill=\"#000000\">value = [13, 30]</text>\n",
       "</g>\n",
       "<!-- 12&#45;&gt;13 -->\n",
       "<g id=\"edge13\" class=\"edge\">\n",
       "<title>12&#45;&gt;13</title>\n",
       "<path fill=\"none\" stroke=\"#000000\" d=\"M867,-88.9777C867,-80.7364 867,-71.887 867,-63.5153\"/>\n",
       "<polygon fill=\"#000000\" stroke=\"#000000\" points=\"870.5001,-63.2484 867,-53.2485 863.5001,-63.2485 870.5001,-63.2484\"/>\n",
       "</g>\n",
       "<!-- 14 -->\n",
       "<g id=\"node15\" class=\"node\">\n",
       "<title>14</title>\n",
       "<polygon fill=\"none\" stroke=\"#000000\" points=\"1058,-53 938,-53 938,0 1058,0 1058,-53\"/>\n",
       "<text text-anchor=\"middle\" x=\"998\" y=\"-37.8\" font-family=\"Times,serif\" font-size=\"14.00\" fill=\"#000000\">gini = 0.498</text>\n",
       "<text text-anchor=\"middle\" x=\"998\" y=\"-22.8\" font-family=\"Times,serif\" font-size=\"14.00\" fill=\"#000000\">samples = 293</text>\n",
       "<text text-anchor=\"middle\" x=\"998\" y=\"-7.8\" font-family=\"Times,serif\" font-size=\"14.00\" fill=\"#000000\">value = [156, 137]</text>\n",
       "</g>\n",
       "<!-- 12&#45;&gt;14 -->\n",
       "<g id=\"edge14\" class=\"edge\">\n",
       "<title>12&#45;&gt;14</title>\n",
       "<path fill=\"none\" stroke=\"#000000\" d=\"M913.1857,-88.9777C926.2379,-79.3629 940.4139,-68.9203 953.3727,-59.3743\"/>\n",
       "<polygon fill=\"#000000\" stroke=\"#000000\" points=\"955.7131,-61.9974 961.6886,-53.2485 951.5614,-56.3615 955.7131,-61.9974\"/>\n",
       "</g>\n",
       "</g>\n",
       "</svg>\n"
      ],
      "text/plain": [
       "<graphviz.files.Source at 0x10eb25c88>"
      ]
     },
     "execution_count": 71,
     "metadata": {},
     "output_type": "execute_result"
    }
   ],
   "source": [
    "export_graphviz(clf_nhl, out_file=\"mytree.dot\")\n",
    "with open(\"mytree.dot\") as f: dot_graph = f.read()\n",
    "graphviz.Source(dot_graph)"
   ]
  },
  {
   "cell_type": "markdown",
   "metadata": {},
   "source": [
    "## Impact by Variable"
   ]
  },
  {
   "cell_type": "code",
   "execution_count": 68,
   "metadata": {},
   "outputs": [],
   "source": [
    "df_eff = pd.DataFrame(list(zip(\n",
    "    X.columns,gscv.best_estimator_\n",
    "    .feature_importances_))).sort_values(1,ascending=False)"
   ]
  },
  {
   "cell_type": "code",
   "execution_count": 69,
   "metadata": {},
   "outputs": [
    {
     "data": {
      "text/html": [
       "<div>\n",
       "<style scoped>\n",
       "    .dataframe tbody tr th:only-of-type {\n",
       "        vertical-align: middle;\n",
       "    }\n",
       "\n",
       "    .dataframe tbody tr th {\n",
       "        vertical-align: top;\n",
       "    }\n",
       "\n",
       "    .dataframe thead th {\n",
       "        text-align: right;\n",
       "    }\n",
       "</style>\n",
       "<table border=\"1\" class=\"dataframe\">\n",
       "  <thead>\n",
       "    <tr style=\"text-align: right;\">\n",
       "      <th></th>\n",
       "      <th>0</th>\n",
       "      <th>1</th>\n",
       "    </tr>\n",
       "  </thead>\n",
       "  <tbody>\n",
       "    <tr>\n",
       "      <th>6</th>\n",
       "      <td>takeaways_diff</td>\n",
       "      <td>0.215929</td>\n",
       "    </tr>\n",
       "    <tr>\n",
       "      <th>3</th>\n",
       "      <td>hits_diff</td>\n",
       "      <td>0.203837</td>\n",
       "    </tr>\n",
       "    <tr>\n",
       "      <th>5</th>\n",
       "      <td>giveaways_diff</td>\n",
       "      <td>0.104522</td>\n",
       "    </tr>\n",
       "    <tr>\n",
       "      <th>1</th>\n",
       "      <td>pim_diff</td>\n",
       "      <td>0.103212</td>\n",
       "    </tr>\n",
       "    <tr>\n",
       "      <th>37</th>\n",
       "      <td>settled_in_home_REG</td>\n",
       "      <td>0.076284</td>\n",
       "    </tr>\n",
       "    <tr>\n",
       "      <th>4</th>\n",
       "      <td>faceOffWinPercentage_diff</td>\n",
       "      <td>0.048831</td>\n",
       "    </tr>\n",
       "    <tr>\n",
       "      <th>2</th>\n",
       "      <td>shots_diff</td>\n",
       "      <td>0.044966</td>\n",
       "    </tr>\n",
       "    <tr>\n",
       "      <th>32</th>\n",
       "      <td>teamName_home_Sabres</td>\n",
       "      <td>0.027045</td>\n",
       "    </tr>\n",
       "    <tr>\n",
       "      <th>0</th>\n",
       "      <td>powerPlayOpportunities_diff</td>\n",
       "      <td>0.021227</td>\n",
       "    </tr>\n",
       "    <tr>\n",
       "      <th>38</th>\n",
       "      <td>settled_in_home_SO</td>\n",
       "      <td>0.019519</td>\n",
       "    </tr>\n",
       "    <tr>\n",
       "      <th>16</th>\n",
       "      <td>teamName_home_Ducks</td>\n",
       "      <td>0.018802</td>\n",
       "    </tr>\n",
       "    <tr>\n",
       "      <th>13</th>\n",
       "      <td>teamName_home_Capitals</td>\n",
       "      <td>0.015293</td>\n",
       "    </tr>\n",
       "    <tr>\n",
       "      <th>28</th>\n",
       "      <td>teamName_home_Penguins</td>\n",
       "      <td>0.014575</td>\n",
       "    </tr>\n",
       "    <tr>\n",
       "      <th>14</th>\n",
       "      <td>teamName_home_Coyotes</td>\n",
       "      <td>0.012059</td>\n",
       "    </tr>\n",
       "    <tr>\n",
       "      <th>24</th>\n",
       "      <td>teamName_home_Lightning</td>\n",
       "      <td>0.011761</td>\n",
       "    </tr>\n",
       "    <tr>\n",
       "      <th>20</th>\n",
       "      <td>teamName_home_Hurricanes</td>\n",
       "      <td>0.009570</td>\n",
       "    </tr>\n",
       "    <tr>\n",
       "      <th>12</th>\n",
       "      <td>teamName_home_Canucks</td>\n",
       "      <td>0.007732</td>\n",
       "    </tr>\n",
       "    <tr>\n",
       "      <th>11</th>\n",
       "      <td>teamName_home_Canadiens</td>\n",
       "      <td>0.007040</td>\n",
       "    </tr>\n",
       "    <tr>\n",
       "      <th>33</th>\n",
       "      <td>teamName_home_Senators</td>\n",
       "      <td>0.005473</td>\n",
       "    </tr>\n",
       "    <tr>\n",
       "      <th>25</th>\n",
       "      <td>teamName_home_Maple Leafs</td>\n",
       "      <td>0.005001</td>\n",
       "    </tr>\n",
       "    <tr>\n",
       "      <th>10</th>\n",
       "      <td>teamName_home_Bruins</td>\n",
       "      <td>0.004665</td>\n",
       "    </tr>\n",
       "    <tr>\n",
       "      <th>35</th>\n",
       "      <td>teamName_home_Stars</td>\n",
       "      <td>0.004203</td>\n",
       "    </tr>\n",
       "    <tr>\n",
       "      <th>23</th>\n",
       "      <td>teamName_home_Kings</td>\n",
       "      <td>0.003584</td>\n",
       "    </tr>\n",
       "    <tr>\n",
       "      <th>15</th>\n",
       "      <td>teamName_home_Devils</td>\n",
       "      <td>0.003075</td>\n",
       "    </tr>\n",
       "    <tr>\n",
       "      <th>18</th>\n",
       "      <td>teamName_home_Flyers</td>\n",
       "      <td>0.002842</td>\n",
       "    </tr>\n",
       "    <tr>\n",
       "      <th>31</th>\n",
       "      <td>teamName_home_Red Wings</td>\n",
       "      <td>0.002638</td>\n",
       "    </tr>\n",
       "    <tr>\n",
       "      <th>29</th>\n",
       "      <td>teamName_home_Predators</td>\n",
       "      <td>0.002469</td>\n",
       "    </tr>\n",
       "    <tr>\n",
       "      <th>26</th>\n",
       "      <td>teamName_home_Oilers</td>\n",
       "      <td>0.001492</td>\n",
       "    </tr>\n",
       "    <tr>\n",
       "      <th>34</th>\n",
       "      <td>teamName_home_Sharks</td>\n",
       "      <td>0.001050</td>\n",
       "    </tr>\n",
       "    <tr>\n",
       "      <th>9</th>\n",
       "      <td>teamName_home_Blues</td>\n",
       "      <td>0.000706</td>\n",
       "    </tr>\n",
       "    <tr>\n",
       "      <th>8</th>\n",
       "      <td>teamName_home_Blue Jackets</td>\n",
       "      <td>0.000599</td>\n",
       "    </tr>\n",
       "    <tr>\n",
       "      <th>21</th>\n",
       "      <td>teamName_home_Islanders</td>\n",
       "      <td>0.000000</td>\n",
       "    </tr>\n",
       "    <tr>\n",
       "      <th>7</th>\n",
       "      <td>teamName_home_Blackhawks</td>\n",
       "      <td>0.000000</td>\n",
       "    </tr>\n",
       "    <tr>\n",
       "      <th>36</th>\n",
       "      <td>teamName_home_Wild</td>\n",
       "      <td>0.000000</td>\n",
       "    </tr>\n",
       "    <tr>\n",
       "      <th>30</th>\n",
       "      <td>teamName_home_Rangers</td>\n",
       "      <td>0.000000</td>\n",
       "    </tr>\n",
       "    <tr>\n",
       "      <th>22</th>\n",
       "      <td>teamName_home_Jets</td>\n",
       "      <td>0.000000</td>\n",
       "    </tr>\n",
       "    <tr>\n",
       "      <th>17</th>\n",
       "      <td>teamName_home_Flames</td>\n",
       "      <td>0.000000</td>\n",
       "    </tr>\n",
       "    <tr>\n",
       "      <th>27</th>\n",
       "      <td>teamName_home_Panthers</td>\n",
       "      <td>0.000000</td>\n",
       "    </tr>\n",
       "    <tr>\n",
       "      <th>19</th>\n",
       "      <td>teamName_home_Golden Knights</td>\n",
       "      <td>0.000000</td>\n",
       "    </tr>\n",
       "  </tbody>\n",
       "</table>\n",
       "</div>"
      ],
      "text/plain": [
       "                               0         1\n",
       "6                 takeaways_diff  0.215929\n",
       "3                      hits_diff  0.203837\n",
       "5                 giveaways_diff  0.104522\n",
       "1                       pim_diff  0.103212\n",
       "37           settled_in_home_REG  0.076284\n",
       "4      faceOffWinPercentage_diff  0.048831\n",
       "2                     shots_diff  0.044966\n",
       "32          teamName_home_Sabres  0.027045\n",
       "0    powerPlayOpportunities_diff  0.021227\n",
       "38            settled_in_home_SO  0.019519\n",
       "16           teamName_home_Ducks  0.018802\n",
       "13        teamName_home_Capitals  0.015293\n",
       "28        teamName_home_Penguins  0.014575\n",
       "14         teamName_home_Coyotes  0.012059\n",
       "24       teamName_home_Lightning  0.011761\n",
       "20      teamName_home_Hurricanes  0.009570\n",
       "12         teamName_home_Canucks  0.007732\n",
       "11       teamName_home_Canadiens  0.007040\n",
       "33        teamName_home_Senators  0.005473\n",
       "25     teamName_home_Maple Leafs  0.005001\n",
       "10          teamName_home_Bruins  0.004665\n",
       "35           teamName_home_Stars  0.004203\n",
       "23           teamName_home_Kings  0.003584\n",
       "15          teamName_home_Devils  0.003075\n",
       "18          teamName_home_Flyers  0.002842\n",
       "31       teamName_home_Red Wings  0.002638\n",
       "29       teamName_home_Predators  0.002469\n",
       "26          teamName_home_Oilers  0.001492\n",
       "34          teamName_home_Sharks  0.001050\n",
       "9            teamName_home_Blues  0.000706\n",
       "8     teamName_home_Blue Jackets  0.000599\n",
       "21       teamName_home_Islanders  0.000000\n",
       "7       teamName_home_Blackhawks  0.000000\n",
       "36            teamName_home_Wild  0.000000\n",
       "30         teamName_home_Rangers  0.000000\n",
       "22            teamName_home_Jets  0.000000\n",
       "17          teamName_home_Flames  0.000000\n",
       "27        teamName_home_Panthers  0.000000\n",
       "19  teamName_home_Golden Knights  0.000000"
      ]
     },
     "execution_count": 69,
     "metadata": {},
     "output_type": "execute_result"
    }
   ],
   "source": [
    "df_eff"
   ]
  },
  {
   "cell_type": "code",
   "execution_count": 47,
   "metadata": {},
   "outputs": [
    {
     "data": {
      "text/plain": [
       "Text(0, 0.5, 'Impact')"
      ]
     },
     "execution_count": 47,
     "metadata": {},
     "output_type": "execute_result"
    },
    {
     "data": {
      "image/png": "[encoded data removed]",
      "text/plain": [
       "<Figure size 1080x576 with 1 Axes>"
      ]
     },
     "metadata": {
      "needs_background": "light"
     },
     "output_type": "display_data"
    }
   ],
   "source": [
    "df_eff.head(7).plot(x=0,kind='bar',figsize=(15,8), color=['y'])\n",
    "plt.title('Variable Impact | Gradient Boost Model')\n",
    "plt.xlabel('Variable')\n",
    "plt.ylabel('Impact')"
   ]
  },
  {
   "cell_type": "markdown",
   "metadata": {},
   "source": [
    "<img src=\"final_project_rubric.png\">"
   ]
  },
  {
   "cell_type": "code",
   "execution_count": null,
   "metadata": {},
   "outputs": [],
   "source": [
    "print('Logistic Regression')\n",
    "print('True Positive:',610/(247+610+341+350))\n",
    "print('False Positive:',247/(247+610+341+350))\n",
    "print('True Negative:', 341/(247+610+341+350))\n",
    "print('False Negative:',350/(247+610+341+350))\n",
    "\n",
    "print('='*50)\n",
    "\n",
    "print('Gradient Boost Classifier')\n",
    "print('True Positive:',605/(247+610+341+350))\n",
    "print('False Positive:',252/(247+610+341+350))\n",
    "print('True Negative:', 346/(247+610+341+350))\n",
    "print('False Negative:',345/(247+610+341+350))"
   ]
  },
  {
   "cell_type": "markdown",
   "metadata": {},
   "source": [
    "## Extra Work"
   ]
  },
  {
   "cell_type": "code",
   "execution_count": null,
   "metadata": {},
   "outputs": [],
   "source": [
    "from sklearn.model_selection import train_test_split\n",
    "from sklearn.linear_model import LinearRegression\n",
    "from sklearn.metrics import mean_squared_error, mean_squared_log_error\n",
    "from sklearn.linear_model import LinearRegression\n",
    "from sklearn.linear_model import Lasso, Ridge, LassoCV, RidgeCV\n",
    "\n",
    "X = df[['powerPlayOpportunities_home','pim_home','shots_home',\n",
    "            'hits_home','faceOffWinPercentage_home', 'giveaways_home', 'takeaways_home' ]]\n",
    "y = df['goals_home']\n",
    "\n",
    "X_train, X_test, y_train, y_test = train_test_split(X, y)\n",
    "\n",
    "# Measure performance - overall performance & correlation between our model & data\n",
    "linreg = LinearRegression() # Initialize a regression object\n",
    "linreg.fit(X_train, y_train) # Fit the model\n",
    "y_linreg_train = linreg.predict(X_train)\n",
    "y_linreg_test = linreg.predict(X_test)\n",
    "train_mse = np.sqrt(mean_squared_error(y_train, y_linreg_train))\n",
    "test_mse = np.sqrt(mean_squared_error(y_test, y_linreg_test))\n",
    "\n",
    "\n",
    "# LassoCV Regression\n",
    "L1 = LassoCV(normalize = True)\n",
    "L1.fit(X_train, y_train)\n",
    "\n",
    "print('Lasso Regression - performance')\n",
    "print('Training r^2:', L1.score(X_train, y_train))\n",
    "print('Testing r^2:', L1.score(X_test, y_test))\n",
    "print('Training MSE:', np.sqrt(mean_squared_error(y_train, L1.predict(X_train))))\n",
    "print('Testing MSE:', np.sqrt(mean_squared_error(y_test, L1.predict(X_test))))\n",
    "print('Best alpha:', L1.alpha_)\n",
    "print(' ')\n",
    "\n",
    "print('Linear Regression - Model Coefficients')\n",
    "print('Training R^2 model score:', linreg.score(X_train,y_train))\n",
    "print('Testing R^2 model score:', linreg.score(X_test,y_test))\n",
    "print('Training MSE:', train_mse)\n",
    "print('Testing MSE:', test_mse)\n",
    "print(' ')"
   ]
  },
  {
   "cell_type": "code",
   "execution_count": null,
   "metadata": {},
   "outputs": [],
   "source": [
    "df['Estimated_Home_Goals_Lasso'] = L1.predict(X)\n",
    "df['residual_LinReg'] = df['Estimated_Home_Goals_Lasso'] - df['home_goals']"
   ]
  },
  {
   "cell_type": "code",
   "execution_count": null,
   "metadata": {},
   "outputs": [],
   "source": [
    "X = df[['powerPlayOpportunities_away','pim_away','shots_away',\n",
    "            'hits_away','faceOffWinPercentage_away','giveaways_away','takeaways_away']]\n",
    "y = df['goals_away']\n",
    "\n",
    "X_train, X_test, y_train, y_test = train_test_split(X, y)\n",
    "\n",
    "# Measure performance - overall performance & correlation between our model & data\n",
    "linreg2 = LinearRegression() # Initialize a regression object\n",
    "linreg2.fit(X_train, y_train) # Fit the model\n",
    "y_linreg2_train = linreg.predict(X_train)\n",
    "y_linreg2_test = linreg.predict(X_test)\n",
    "train2_mse = np.sqrt(mean_squared_error(y_train, y_linreg2_train))\n",
    "test2_mse = np.sqrt(mean_squared_error(y_test, y_linreg2_test))\n",
    "\n",
    "\n",
    "# LassoCV Regression\n",
    "L2 = LassoCV(normalize = True)\n",
    "L2.fit(X_train, y_train)\n",
    "\n",
    "print('Lasso Regression - performance')\n",
    "print('Training r^2:', L2.score(X_train, y_train))\n",
    "print('Testing r^2:', L2.score(X_test, y_test))\n",
    "print('Training MSE:', np.sqrt(mean_squared_error(y_train, L2.predict(X_train))))\n",
    "print('Testing MSE:', np.sqrt(mean_squared_error(y_test, L2.predict(X_test))))\n",
    "print('Best alpha:', L2.alpha_)\n",
    "print(' ')\n",
    "\n",
    "print('Linear Regression - Model Coefficients')\n",
    "print('Training R^2 model score:', linreg2.score(X_train,y_train))\n",
    "print('Testing R^2 model score:', linreg2.score(X_test,y_test))\n",
    "print('Training MSE:', train_mse)\n",
    "print('Testing MSE:', test_mse)\n",
    "print(' ')"
   ]
  },
  {
   "cell_type": "code",
   "execution_count": null,
   "metadata": {},
   "outputs": [],
   "source": [
    "df['Estimated_Away_Goals_Lasso'] = L2.predict(X)\n",
    "df['residual_LinReg'] = df['Estimated_Away_Goals_Lasso'] - df['away_goals']"
   ]
  },
  {
   "cell_type": "code",
   "execution_count": null,
   "metadata": {},
   "outputs": [],
   "source": [
    "\n",
    "(\n",
    "ggplot(df, aes(x='home_goals', y='Estimated_Home_Goals_Lasso', fill='home_goals')\n",
    "      )\n",
    " + geom_point(stat='identity')\n",
    "#  + geom_smooth(method='lm')\n",
    " + theme_minimal() \n",
    " + aes(color='residual_LinReg')\n",
    "#  + coord_flip()\n",
    "#  + coord_fixed()\n",
    "#  + scale_size_continuous(range = (2,4)) \n",
    "    + xlim(-5000, 150000)\n",
    "    + ylim(-5000, 150000)\n",
    ")\n",
    "\n",
    "\n",
    "\n",
    "# ggplot(data,aes(x.plot,y.plot))+stat_summary(fun.data=mean_cl_normal) + \n",
    "#   geom_smooth(method='lm',formula=y~x)\n",
    "# x , y = df.Year, df.Weekly_Sales.sum()\n",
    "# # print(np.corrcoef(x,y))\n",
    "# plt.bar(x,y)"
   ]
  }
 ],
 "metadata": {
  "kernelspec": {
   "display_name": "Python 3",
   "language": "python",
   "name": "python3"
  },
  "language_info": {
   "codemirror_mode": {
    "name": "ipython",
    "version": 3
   },
   "file_extension": ".py",
   "mimetype": "text/x-python",
   "name": "python",
   "nbconvert_exporter": "python",
   "pygments_lexer": "ipython3",
   "version": "3.6.6"
  }
 },
 "nbformat": 4,
 "nbformat_minor": 2
}
